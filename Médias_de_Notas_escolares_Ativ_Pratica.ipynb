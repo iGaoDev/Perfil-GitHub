{
  "nbformat": 4,
  "nbformat_minor": 0,
  "metadata": {
    "colab": {
      "provenance": [],
      "authorship_tag": "ABX9TyMzmaypMg3SzTASyEj3nIkP",
      "include_colab_link": true
    },
    "kernelspec": {
      "name": "python3",
      "display_name": "Python 3"
    },
    "language_info": {
      "name": "python"
    }
  },
  "cells": [
    {
      "cell_type": "markdown",
      "metadata": {
        "id": "view-in-github",
        "colab_type": "text"
      },
      "source": [
        "<a href=\"https://colab.research.google.com/github/iGaoDev/Perfil-GitHub/blob/main/M%C3%A9dias_de_Notas_escolares_Ativ_Pratica.ipynb\" target=\"_parent\"><img src=\"https://colab.research.google.com/assets/colab-badge.svg\" alt=\"Open In Colab\"/></a>"
      ]
    },
    {
      "cell_type": "code",
      "source": [
        "Nota1= float(input(\"Digite a Nota do 1º Bimestre :\"))\n",
        "Nota2= float(input(\"Digite a Nota do 2º Bimestre:\"))\n",
        "Nota3= float(input(\"Digite a Nota do 3º Bimestre:\"))\n",
        "Nota4= float(input(\"Digite a Nota do 4º Bimestre:\"))\n",
        "\n",
        "media= (Nota1 + Nota2 + Nota3 + Nota4)/ 4\n",
        "\n",
        "if media >= 7:\n",
        "\n",
        "  situacao= \"Parabéns você foi Aprovado !\"\n",
        "\n",
        "elif media < 7:\n",
        "  situacao= \"Você está de Recuperação !\"\n",
        "\n",
        "print(f\"Média: {media:.1f}\")\n",
        "print(f\"Situação: {situacao}\")"
      ],
      "metadata": {
        "id": "-Fzr7ljlJfBW",
        "colab": {
          "base_uri": "https://localhost:8080/"
        },
        "outputId": "2368e318-c98a-4d41-cbf7-eaf7b524bfc3"
      },
      "execution_count": 11,
      "outputs": [
        {
          "output_type": "stream",
          "name": "stdout",
          "text": [
            "Digite a Nota do 1º Bimestre :8.5\n",
            "Digite a Nota do 2º Bimestre:4.5\n",
            "Digite a Nota do 3º Bimestre:6\n",
            "Digite a Nota do 4º Bimestre:9\n",
            "Média: 7.0\n",
            "Situação: Parabéns você foi Aprovado !\n"
          ]
        }
      ]
    }
  ]
}
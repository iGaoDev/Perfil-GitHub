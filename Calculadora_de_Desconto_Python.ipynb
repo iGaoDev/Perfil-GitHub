{
  "nbformat": 4,
  "nbformat_minor": 0,
  "metadata": {
    "colab": {
      "provenance": [],
      "authorship_tag": "ABX9TyPGyk3YKfbho4oVCUDi0nZg",
      "include_colab_link": true
    },
    "kernelspec": {
      "name": "python3",
      "display_name": "Python 3"
    },
    "language_info": {
      "name": "python"
    }
  },
  "cells": [
    {
      "cell_type": "markdown",
      "metadata": {
        "id": "view-in-github",
        "colab_type": "text"
      },
      "source": [
        "<a href=\"https://colab.research.google.com/github/iGaoDev/Perfil-GitHub/blob/main/Calculadora_de_Desconto_Python.ipynb\" target=\"_parent\"><img src=\"https://colab.research.google.com/assets/colab-badge.svg\" alt=\"Open In Colab\"/></a>"
      ]
    },
    {
      "cell_type": "markdown",
      "source": [
        "***CALCULADORA DE DESCONTO EM PYTHON***"
      ],
      "metadata": {
        "id": "ry0Rhhom46OJ"
      }
    },
    {
      "cell_type": "code",
      "source": [
        "Valor_Produto = float(input(\"Digite o valor do produto: R$ \"))"
      ],
      "metadata": {
        "colab": {
          "base_uri": "https://localhost:8080/"
        },
        "id": "5Y5VHU8H5Afb",
        "outputId": "4a335436-abe2-47ef-afbf-d2cc052be61b"
      },
      "execution_count": 40,
      "outputs": [
        {
          "name": "stdout",
          "output_type": "stream",
          "text": [
            "Digite o valor do produto: R$ 138.65\n"
          ]
        }
      ]
    },
    {
      "cell_type": "code",
      "source": [
        "Percentual_Desconto = float(input(\"Digite o valor do desconto: \"))"
      ],
      "metadata": {
        "colab": {
          "base_uri": "https://localhost:8080/"
        },
        "id": "ep7vDM815fgl",
        "outputId": "90068e43-5c0c-4479-c449-14443f18125d"
      },
      "execution_count": 41,
      "outputs": [
        {
          "name": "stdout",
          "output_type": "stream",
          "text": [
            "Digite o valor do desconto: 17\n"
          ]
        }
      ]
    },
    {
      "cell_type": "code",
      "source": [
        "if Percentual_Desconto < 0 or Percentual_Desconto > 100:\n",
        "  print(\"Erro, A porcentagem de desconto deve ser entre 0% e 100%. \")\n",
        "#Calcula o valor do desconto\n",
        "else:\n",
        "  Desconto = Valor_Produto * (Percentual_Desconto / 100)"
      ],
      "metadata": {
        "id": "UxpWGrlD5p8x"
      },
      "execution_count": 42,
      "outputs": []
    },
    {
      "cell_type": "code",
      "source": [
        "#Calcula o valor final da compra\n",
        "Valor_Final = Valor_Produto - Desconto"
      ],
      "metadata": {
        "id": "Mm4CEVNl7Gqu"
      },
      "execution_count": 43,
      "outputs": []
    },
    {
      "cell_type": "code",
      "source": [
        "  #Exibe o valor final da compra\n",
        "  print(f\"Valor do produto com desconto é de: R$ {Valor_Final:.2f}\")"
      ],
      "metadata": {
        "colab": {
          "base_uri": "https://localhost:8080/"
        },
        "id": "C3aZbQrI7_tR",
        "outputId": "6e916da3-3127-4fba-b137-4cd0b20d9723"
      },
      "execution_count": 44,
      "outputs": [
        {
          "output_type": "stream",
          "name": "stdout",
          "text": [
            "Valor do produto com desconto é de: R$ 115.08\n"
          ]
        }
      ]
    }
  ]
}
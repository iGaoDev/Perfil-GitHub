{
  "nbformat": 4,
  "nbformat_minor": 0,
  "metadata": {
    "colab": {
      "provenance": [],
      "authorship_tag": "ABX9TyOVWK2IaRdyeb23B4bPESpu",
      "include_colab_link": true
    },
    "kernelspec": {
      "name": "python3",
      "display_name": "Python 3"
    },
    "language_info": {
      "name": "python"
    }
  },
  "cells": [
    {
      "cell_type": "markdown",
      "metadata": {
        "id": "view-in-github",
        "colab_type": "text"
      },
      "source": [
        "<a href=\"https://colab.research.google.com/github/iGaoDev/Perfil-GitHub/blob/main/M%C3%A9dias_de_Notas_escolares.ipynb\" target=\"_parent\"><img src=\"https://colab.research.google.com/assets/colab-badge.svg\" alt=\"Open In Colab\"/></a>"
      ]
    },
    {
      "cell_type": "code",
      "execution_count": 1,
      "metadata": {
        "colab": {
          "base_uri": "https://localhost:8080/"
        },
        "id": "e-DOxB5TJH1G",
        "outputId": "d1491c17-d28d-4d16-ccfd-d49dfd209de4"
      },
      "outputs": [
        {
          "output_type": "stream",
          "name": "stdout",
          "text": [
            "Hello World\n"
          ]
        }
      ],
      "source": [
        "print (\"Hello World\")"
      ]
    },
    {
      "cell_type": "code",
      "source": [
        "Nota1= int(input(\"Digite o valor da Nota 1:\"))\n",
        "Nota2= int(input(\"Digite o valor da Nota 2:\"))\n",
        "Nota3= int(input(\"Digite o valor da Nota 3:\"))\n",
        "Nota4= int(input(\"Digite o valor da Nota 4:\"))\n",
        "\n",
        "media= (Nota1 + Nota2 + Nota3 + Nota4)/ 6\n",
        "\n",
        "if media >= 6:\n",
        "\n",
        "  situacao= \"Aprovado\"\n",
        "\n",
        "else:\n",
        "\n",
        "  situacao= \"Reprovado\"\n",
        "\n",
        "print(f\"Média: {media}\")\n",
        "print(f\"Situação: {situacao}\")"
      ],
      "metadata": {
        "id": "-Fzr7ljlJfBW",
        "colab": {
          "base_uri": "https://localhost:8080/"
        },
        "outputId": "cf0e12e2-67b0-4853-9d99-96c9be516035"
      },
      "execution_count": 15,
      "outputs": [
        {
          "output_type": "stream",
          "name": "stdout",
          "text": [
            "Digite o valor da Nota 1:2\n",
            "Digite o valor da Nota 2:8\n",
            "Digite o valor da Nota 3:10\n",
            "Digite o valor da Nota 4:6\n",
            "Média: 4.333333333333333\n",
            "Situação: Reprovado\n"
          ]
        }
      ]
    },
    {
      "cell_type": "markdown",
      "source": [
        "**AQUI ESTÁ O EXERCICIO DA AULA 1, COMO FAZER UMA PROGRAMAÇÃO DE MÉDIA DE NOTAS ESCOLARES**"
      ],
      "metadata": {
        "id": "WC-4hCTypnFF"
      }
    }
  ]
}